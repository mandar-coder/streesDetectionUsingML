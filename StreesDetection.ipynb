{
 "cells": [
  {
   "cell_type": "code",
   "execution_count": null,
   "id": "944f1194",
   "metadata": {},
   "outputs": [],
   "source": [
    "import numpy as np\n",
    "import pandas as pd"
   ]
  },
  {
   "cell_type": "code",
   "execution_count": null,
   "id": "c86daeb6",
   "metadata": {},
   "outputs": [],
   "source": [
    "df=pd.read_csv('../projectml/stress.csv')\n",
    "df.head()"
   ]
  },
  {
   "cell_type": "code",
   "execution_count": null,
   "id": "ec5c44cc",
   "metadata": {},
   "outputs": [],
   "source": [
    "df.describe()"
   ]
  },
  {
   "cell_type": "code",
   "execution_count": null,
   "id": "9c48c277",
   "metadata": {},
   "outputs": [],
   "source": [
    "df.isnull()"
   ]
  },
  {
   "cell_type": "code",
   "execution_count": null,
   "id": "6001fb5c",
   "metadata": {},
   "outputs": [],
   "source": [
    "df.isnull().sum()"
   ]
  },
  {
   "cell_type": "code",
   "execution_count": null,
   "id": "3ba82aca",
   "metadata": {},
   "outputs": [],
   "source": [
    "import nltk\n",
    "import re\n",
    "from nltk. corpus import stopwords\n",
    "import string\n",
    "nltk. download( 'stopwords' )\n",
    "stemmer = nltk. SnowballStemmer(\"english\")\n",
    "stopword=set (stopwords . words ( 'english' ))"
   ]
  },
  {
   "cell_type": "code",
   "execution_count": null,
   "id": "2fd62bc9",
   "metadata": {},
   "outputs": [],
   "source": [
    "def clean(text):\n",
    "    text = str(text) . lower()  \n",
    "    text = re. sub('\\[.*?\\]',' ',text)  \n",
    "    text = re. sub('https?://\\S+/www\\. \\S+', ' ', text)\n",
    "    text = re. sub('<. *?>+', ' ', text)\n",
    "    text = re. sub(' [%s]' % re. escape(string. punctuation), ' ', text)\n",
    "    text = re. sub(' \\n',' ', text)\n",
    "    text = re. sub(' \\w*\\d\\w*' ,' ', text)\n",
    "    text = [word for word in text. split(' ') if word not in stopword]\n",
    "    text =\" \". join(text)\n",
    "    text = [stemmer . stem(word) for word in text. split(' ') ]\n",
    "    text = \" \". join(text)\n",
    "    return text\n",
    "df [ \"text\"] = df[\"text\"]. apply(clean)"
   ]
  },
  {
   "cell_type": "code",
   "execution_count": null,
   "id": "d3081c35",
   "metadata": {},
   "outputs": [],
   "source": [
    "import matplotlib. pyplot as plt\n",
    "from wordcloud import WordCloud, STOPWORDS, ImageColorGenerator\n",
    "text = \" \". join(i for i in df. text)\n",
    "stopwords = set (STOPWORDS)\n",
    "wordcloud = WordCloud( stopwords=stopwords,background_color=\"white\") . generate(text)\n",
    "plt. figure(figsize=(10, 10) )\n",
    "plt. imshow(wordcloud)\n",
    "plt. axis(\"off\")\n",
    "plt. show( )"
   ]
  },
  {
   "cell_type": "code",
   "execution_count": null,
   "id": "a8c0db23",
   "metadata": {},
   "outputs": [],
   "source": [
    "from sklearn. feature_extraction. text import CountVectorizer\n",
    "from sklearn. model_selection import train_test_split\n",
    "\n",
    "x = np.array (df[\"text\"])\n",
    "y = np.array (df[\"label\"])\n",
    "\n",
    "cv = CountVectorizer ()\n",
    "X = cv. fit_transform(x)\n",
    "print(X)\n",
    "xtrain, xtest, ytrain, ytest = train_test_split(X, y,test_size=0.33)"
   ]
  },
  {
   "cell_type": "code",
   "execution_count": null,
   "id": "ebb62fb8",
   "metadata": {},
   "outputs": [],
   "source": [
    "from sklearn.naive_bayes import BernoulliNB\n",
    "model=BernoulliNB()\n",
    "model.fit(xtrain,ytrain)"
   ]
  },
  {
   "cell_type": "code",
   "execution_count": null,
   "id": "abd6f53b",
   "metadata": {},
   "outputs": [],
   "source": [
    "user=input(\"Enter the text\")\n",
    "data=cv.transform([user]).toarray()\n",
    "output=model.predict(data)\n",
    "print(output)"
   ]
  }
 ],
 "metadata": {
  "kernelspec": {
   "display_name": "Python 3",
   "language": "python",
   "name": "python3"
  },
  "language_info": {
   "codemirror_mode": {
    "name": "ipython",
    "version": 3
   },
   "file_extension": ".py",
   "mimetype": "text/x-python",
   "name": "python",
   "nbconvert_exporter": "python",
   "pygments_lexer": "ipython3",
   "version": "3.10.5"
  },
  "vscode": {
   "interpreter": {
    "hash": "aee8b7b246df8f9039afb4144a1f6fd8d2ca17a180786b69acc140d282b71a49"
   }
  }
 },
 "nbformat": 4,
 "nbformat_minor": 5
}
